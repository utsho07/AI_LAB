{
 "cells": [
  {
   "cell_type": "code",
   "execution_count": 1,
   "id": "7fed068d",
   "metadata": {},
   "outputs": [
    {
     "name": "stdout",
     "output_type": "stream",
     "text": [
      "Parent Entropy: 0.9968\n",
      "Child Entropy 1 (13+, 4-): 0.7871\n",
      "Child Entropy 2 (1+, 12-): 0.3912\n",
      "Weighted Child Entropy: 0.6155\n",
      "Information Gain: 0.3813\n"
     ]
    }
   ],
   "source": [
    "import math\n",
    "# Helper function to compute entropy\n",
    "def entropy(pos, neg):\n",
    "    total = pos + neg\n",
    "    if total == 0:\n",
    "        return 0\n",
    "    p_pos = pos / total if pos != 0 else 0\n",
    "    p_neg = neg / total if neg != 0 else 0\n",
    "    entropy_val = 0\n",
    "    if p_pos > 0:\n",
    "        entropy_val -= p_pos * math.log2(p_pos)\n",
    "    if p_neg > 0:\n",
    "        entropy_val -= p_neg * math.log2(p_neg)\n",
    "    return round(entropy_val, 4)\n",
    "# Parent set: 14 positive, 16 negative\n",
    "parent_entropy = entropy(14, 16)\n",
    "\n",
    "# First child: 13 positive, 4 negative\n",
    "entropy_child1 = entropy(13, 4)\n",
    "# Second child: 1 positive, 12 negative\n",
    "entropy_child2 = entropy(1, 12)\n",
    "# Weighted average entropy\n",
    "total = 30\n",
    "weighted_entropy = ((17 / total) * entropy_child1) + ((13 / total) * entropy_child2)\n",
    "# Information Gain\n",
    "info_gain = parent_entropy - weighted_entropy\n",
    "\n",
    "# Output\n",
    "print(f\"Parent Entropy: {parent_entropy}\")\n",
    "print(f\"Child Entropy 1 (13+, 4-): {entropy_child1}\")\n",
    "print(f\"Child Entropy 2 (1+, 12-): {entropy_child2}\")\n",
    "print(f\"Weighted Child Entropy: {round(weighted_entropy, 4)}\")\n",
    "print(f\"Information Gain: {round(info_gain, 4)}\")\n"
   ]
  },
  {
   "cell_type": "code",
   "execution_count": null,
   "id": "c9e7fcd7",
   "metadata": {},
   "outputs": [],
   "source": []
  }
 ],
 "metadata": {
  "kernelspec": {
   "display_name": "Python 3",
   "language": "python",
   "name": "python3"
  },
  "language_info": {
   "codemirror_mode": {
    "name": "ipython",
    "version": 3
   },
   "file_extension": ".py",
   "mimetype": "text/x-python",
   "name": "python",
   "nbconvert_exporter": "python",
   "pygments_lexer": "ipython3",
   "version": "3.12.10"
  }
 },
 "nbformat": 4,
 "nbformat_minor": 5
}
