{
 "cells": [
  {
   "cell_type": "code",
   "execution_count": 1,
   "id": "20e099b2",
   "metadata": {},
   "outputs": [
    {
     "name": "stdout",
     "output_type": "stream",
     "text": [
      "Tour: [0, 2, 1, 3, 0]\n",
      "Total Distance: 73\n"
     ]
    }
   ],
   "source": [
    "import numpy as np\n",
    "# Distance matrix\n",
    "dist_matrix = [\n",
    "    [0, 29, 20, 21],\n",
    "    [29, 0, 15, 17],\n",
    "    [20, 15, 0, 28],\n",
    "    [21, 17, 28, 0]\n",
    "]\n",
    "n = len(dist_matrix)\n",
    "visited = [False] * n\n",
    "path = []\n",
    "total_cost = 0\n",
    "current_city = 0\n",
    "visited[current_city] = True\n",
    "path.append(current_city)\n",
    "for _ in range(n - 1):\n",
    "    nearest = None\n",
    "    min_dist = float('inf')\n",
    "    for city in range(n):\n",
    "        if not visited[city] and dist_matrix[current_city][city] < min_dist:\n",
    "            nearest = city\n",
    "            min_dist = dist_matrix[current_city][city]\n",
    "    visited[nearest] = True\n",
    "    path.append(nearest)\n",
    "    total_cost += min_dist\n",
    "    current_city = nearest\n",
    "\n",
    "# Return to starting city\n",
    "total_cost += dist_matrix[current_city][path[0]]\n",
    "path.append(path[0])\n",
    "\n",
    "print(\"Tour:\", path)\n",
    "print(\"Total Distance:\", total_cost)\n",
    "\n"
   ]
  },
  {
   "cell_type": "code",
   "execution_count": null,
   "id": "fc69869c",
   "metadata": {},
   "outputs": [],
   "source": []
  }
 ],
 "metadata": {
  "kernelspec": {
   "display_name": "Python 3",
   "language": "python",
   "name": "python3"
  },
  "language_info": {
   "codemirror_mode": {
    "name": "ipython",
    "version": 3
   },
   "file_extension": ".py",
   "mimetype": "text/x-python",
   "name": "python",
   "nbconvert_exporter": "python",
   "pygments_lexer": "ipython3",
   "version": "3.12.10"
  }
 },
 "nbformat": 4,
 "nbformat_minor": 5
}
