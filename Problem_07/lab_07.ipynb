{
 "cells": [
  {
   "cell_type": "code",
   "execution_count": 2,
   "id": "04ee7f8e",
   "metadata": {},
   "outputs": [
    {
     "name": "stdout",
     "output_type": "stream",
     "text": [
      "Enter your 3x3 pattern row-wise (space separated 0 or 1):\n"
     ]
    },
    {
     "name": "stdout",
     "output_type": "stream",
     "text": [
      "\n",
      "Network Output (O): -1\n",
      "Pattern matched as: L\n"
     ]
    }
   ],
   "source": [
    "import numpy as np\n",
    "pattern_L = np.array([\n",
    "    1, 0, 0,\n",
    "    1, 0, 0,\n",
    "    1, 1, 1\n",
    "])\n",
    "pattern_I = np.array([\n",
    "    0, 1, 0,\n",
    "    0, 1, 0,\n",
    "    0, 1, 0\n",
    "])\n",
    "\n",
    "target_L = -1\n",
    "target_I = 1\n",
    "\n",
    "W = pattern_L * target_L + pattern_I * target_I\n",
    "b = 0\n",
    "\n",
    "def sign_with_threshold(x, thresh=1):\n",
    "    if x > thresh:\n",
    "        return 1\n",
    "    elif x < -thresh:\n",
    "        return -1\n",
    "    else:\n",
    "        return 0\n",
    "\n",
    "def take_input():\n",
    "    print(\"Enter your 3x3 pattern row-wise (space separated 0 or 1):\")\n",
    "    user_input = []\n",
    "    for i in range(3):\n",
    "        row = input(f\"Row {i+1}: \").strip().split()\n",
    "        if len(row) != 3 or not all(x in ['0', '1'] for x in row):\n",
    "            print(\"Invalid input. Enter exactly 3 binary digits (0 or 1).\")\n",
    "            return None\n",
    "        user_input.extend([int(x) for x in row])\n",
    "    return np.array(user_input)\n",
    "\n",
    "\n",
    "def predict(X, threshold=1):\n",
    "    net_input = np.dot(W, X) + b\n",
    "    output = sign_with_threshold(net_input, threshold)\n",
    "    return output\n",
    "\n",
    "def classify(output):\n",
    "    if output == -1:\n",
    "        return \"Pattern matched as: L\"\n",
    "    elif output == 1:\n",
    "        return \"Pattern matched as: I\"\n",
    "    else:\n",
    "        return \"Pattern does not match L or I.\"\n",
    "\n",
    "def main():\n",
    "    X = take_input()\n",
    "    if X is not None:\n",
    "        result = predict(X, threshold=1)\n",
    "        print(\"\\nNetwork Output (O):\", result)\n",
    "        print(classify(result))\n",
    "\n",
    "if __name__ == \"__main__\":\n",
    "    main()\n",
    "\n"
   ]
  },
  {
   "cell_type": "code",
   "execution_count": null,
   "id": "e03b38b9",
   "metadata": {},
   "outputs": [],
   "source": []
  }
 ],
 "metadata": {
  "kernelspec": {
   "display_name": "Python 3",
   "language": "python",
   "name": "python3"
  },
  "language_info": {
   "codemirror_mode": {
    "name": "ipython",
    "version": 3
   },
   "file_extension": ".py",
   "mimetype": "text/x-python",
   "name": "python",
   "nbconvert_exporter": "python",
   "pygments_lexer": "ipython3",
   "version": "3.12.10"
  }
 },
 "nbformat": 4,
 "nbformat_minor": 5
}
